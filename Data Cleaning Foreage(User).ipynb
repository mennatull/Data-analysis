{
 "cells": [
  {
   "cell_type": "code",
   "execution_count": 30,
   "id": "3df29578",
   "metadata": {},
   "outputs": [],
   "source": [
    "import os\n",
    "import pandas as pd\n",
    "import numpy as np"
   ]
  },
  {
   "cell_type": "code",
   "execution_count": 31,
   "id": "fc164eb6",
   "metadata": {},
   "outputs": [],
   "source": [
    "os.chdir(\"/Users/mennatullahalsoudi/Downloads\")"
   ]
  },
  {
   "cell_type": "code",
   "execution_count": 32,
   "id": "f2d0b324",
   "metadata": {},
   "outputs": [
    {
     "data": {
      "text/plain": [
       "<function posix.getcwd()>"
      ]
     },
     "execution_count": 32,
     "metadata": {},
     "output_type": "execute_result"
    }
   ],
   "source": [
    "os.getcwd"
   ]
  },
  {
   "cell_type": "code",
   "execution_count": 33,
   "id": "b6b60950",
   "metadata": {},
   "outputs": [],
   "source": [
    "df=pd.read_csv(\"User (1)(2).csv\")"
   ]
  },
  {
   "cell_type": "code",
   "execution_count": 34,
   "id": "e04b8b2a",
   "metadata": {},
   "outputs": [
    {
     "data": {
      "text/html": [
       "<div>\n",
       "<style scoped>\n",
       "    .dataframe tbody tr th:only-of-type {\n",
       "        vertical-align: middle;\n",
       "    }\n",
       "\n",
       "    .dataframe tbody tr th {\n",
       "        vertical-align: top;\n",
       "    }\n",
       "\n",
       "    .dataframe thead th {\n",
       "        text-align: right;\n",
       "    }\n",
       "</style>\n",
       "<table border=\"1\" class=\"dataframe\">\n",
       "  <thead>\n",
       "    <tr style=\"text-align: right;\">\n",
       "      <th></th>\n",
       "      <th>Unnamed: 0</th>\n",
       "      <th>Unnamed: 0.1</th>\n",
       "      <th>User ID</th>\n",
       "      <th>Name</th>\n",
       "      <th>Email</th>\n",
       "    </tr>\n",
       "  </thead>\n",
       "  <tbody>\n",
       "    <tr>\n",
       "      <th>0</th>\n",
       "      <td>1</td>\n",
       "      <td>1</td>\n",
       "      <td>95258c36-5b6b-4591-85ee-0c43f503c1d5</td>\n",
       "      <td>Michael Deering</td>\n",
       "      <td>MD@gmail.com</td>\n",
       "    </tr>\n",
       "    <tr>\n",
       "      <th>1</th>\n",
       "      <td>2</td>\n",
       "      <td>2</td>\n",
       "      <td>a8229d24-f219-4930-a382-24049a8f73bb</td>\n",
       "      <td>Richard Bain</td>\n",
       "      <td>RB@gmail.com</td>\n",
       "    </tr>\n",
       "    <tr>\n",
       "      <th>2</th>\n",
       "      <td>3</td>\n",
       "      <td>3</td>\n",
       "      <td>8f41c07f-db4f-44f3-ae81-1f99cee047eb</td>\n",
       "      <td>Kristi Mccarthy</td>\n",
       "      <td>KM@gmail.com</td>\n",
       "    </tr>\n",
       "    <tr>\n",
       "      <th>3</th>\n",
       "      <td>4</td>\n",
       "      <td>4</td>\n",
       "      <td>3af8d78b-55c4-4ac0-8161-7cc3f6ec11c9</td>\n",
       "      <td>Betty Ellis</td>\n",
       "      <td>BE@gmail.com</td>\n",
       "    </tr>\n",
       "    <tr>\n",
       "      <th>4</th>\n",
       "      <td>5</td>\n",
       "      <td>5</td>\n",
       "      <td>2bd9c167-e06c-47c1-a978-3403d6724606</td>\n",
       "      <td>Hazel Neville</td>\n",
       "      <td>HN@gmail.com</td>\n",
       "    </tr>\n",
       "  </tbody>\n",
       "</table>\n",
       "</div>"
      ],
      "text/plain": [
       "   Unnamed: 0  Unnamed: 0.1                               User ID  \\\n",
       "0           1             1  95258c36-5b6b-4591-85ee-0c43f503c1d5   \n",
       "1           2             2  a8229d24-f219-4930-a382-24049a8f73bb   \n",
       "2           3             3  8f41c07f-db4f-44f3-ae81-1f99cee047eb   \n",
       "3           4             4  3af8d78b-55c4-4ac0-8161-7cc3f6ec11c9   \n",
       "4           5             5  2bd9c167-e06c-47c1-a978-3403d6724606   \n",
       "\n",
       "              Name         Email  \n",
       "0  Michael Deering  MD@gmail.com  \n",
       "1     Richard Bain  RB@gmail.com  \n",
       "2  Kristi Mccarthy  KM@gmail.com  \n",
       "3      Betty Ellis  BE@gmail.com  \n",
       "4    Hazel Neville  HN@gmail.com  "
      ]
     },
     "execution_count": 34,
     "metadata": {},
     "output_type": "execute_result"
    }
   ],
   "source": [
    "df.head()"
   ]
  },
  {
   "cell_type": "code",
   "execution_count": 35,
   "id": "48cf4f3d",
   "metadata": {},
   "outputs": [],
   "source": [
    "#Cleaning the email from the wrong syntax"
   ]
  },
  {
   "cell_type": "code",
   "execution_count": 36,
   "id": "b3b171ae",
   "metadata": {},
   "outputs": [],
   "source": [
    "df[\"Email\"].replace(\"GHbnuothhymw\",np.nan,inplace=True)"
   ]
  },
  {
   "cell_type": "code",
   "execution_count": 37,
   "id": "b7e608bb",
   "metadata": {},
   "outputs": [],
   "source": [
    "df[\"Email\"].replace(\"BPssplwxufql\",np.nan,inplace=True)"
   ]
  },
  {
   "cell_type": "code",
   "execution_count": 38,
   "id": "22f07748",
   "metadata": {},
   "outputs": [],
   "source": [
    "df[\"Email\"].replace(\"RMnemqyjpmju\",np.nan,inplace=True)"
   ]
  },
  {
   "cell_type": "code",
   "execution_count": 39,
   "id": "71fab079",
   "metadata": {},
   "outputs": [],
   "source": [
    "df[\"Email\"].replace(\"SBhcjcholecn\",np.nan,inplace=True)"
   ]
  },
  {
   "cell_type": "code",
   "execution_count": 40,
   "id": "fa61b737",
   "metadata": {},
   "outputs": [],
   "source": [
    "df[\"Email\"].replace(\"SHjcmuixgwni\",np.nan,inplace=True)"
   ]
  },
  {
   "cell_type": "code",
   "execution_count": 41,
   "id": "dfbea827",
   "metadata": {},
   "outputs": [],
   "source": [
    "df[\"Email\"].replace(\"WBwvtnefwtig\",np.nan,inplace=True)"
   ]
  },
  {
   "cell_type": "code",
   "execution_count": 42,
   "id": "35b93694",
   "metadata": {},
   "outputs": [],
   "source": [
    "df[\"Email\"].replace(\"VTrgqcnsrvpx\",np.nan,inplace=True)"
   ]
  },
  {
   "cell_type": "code",
   "execution_count": 43,
   "id": "a9ea9626",
   "metadata": {},
   "outputs": [],
   "source": [
    "df[\"Email\"].replace(\"LWsvedxnkdfr\",np.nan,inplace=True)"
   ]
  },
  {
   "cell_type": "code",
   "execution_count": 44,
   "id": "cac27a1f",
   "metadata": {},
   "outputs": [],
   "source": [
    "df[\"Email\"].replace(\"RPbrxoephmar\",np.nan,inplace=True)"
   ]
  },
  {
   "cell_type": "code",
   "execution_count": 45,
   "id": "a2535208",
   "metadata": {},
   "outputs": [],
   "source": [
    "df[\"Email\"].replace(\"AFiobiqzxrfh\",np.nan,inplace=True)"
   ]
  },
  {
   "cell_type": "code",
   "execution_count": 46,
   "id": "7a639644",
   "metadata": {},
   "outputs": [],
   "source": [
    "df[\"Email\"].replace(\"LMgovskansxq\",np.nan,inplace=True)"
   ]
  },
  {
   "cell_type": "code",
   "execution_count": 47,
   "id": "845336b4",
   "metadata": {},
   "outputs": [],
   "source": [
    "df[\"Email\"].replace(\"LSdtqsemuido\",np.nan,inplace=True)"
   ]
  },
  {
   "cell_type": "code",
   "execution_count": 48,
   "id": "6280acc1",
   "metadata": {},
   "outputs": [
    {
     "data": {
      "text/plain": [
       "Unnamed: 0      0\n",
       "Unnamed: 0.1    0\n",
       "User ID         0\n",
       "Name            0\n",
       "Email           0\n",
       "dtype: int64"
      ]
     },
     "execution_count": 48,
     "metadata": {},
     "output_type": "execute_result"
    }
   ],
   "source": [
    "df.isna().sum()"
   ]
  },
  {
   "cell_type": "code",
   "execution_count": 49,
   "id": "10bcae3c",
   "metadata": {},
   "outputs": [],
   "source": [
    "df.dropna(axis=\"index\",how=\"any\",subset=[\"Email\"],inplace=True)"
   ]
  },
  {
   "cell_type": "code",
   "execution_count": 50,
   "id": "a0a2e76d",
   "metadata": {},
   "outputs": [
    {
     "data": {
      "text/plain": [
       "Unnamed: 0      0\n",
       "Unnamed: 0.1    0\n",
       "User ID         0\n",
       "Name            0\n",
       "Email           0\n",
       "dtype: int64"
      ]
     },
     "execution_count": 50,
     "metadata": {},
     "output_type": "execute_result"
    }
   ],
   "source": [
    "df.isna().sum()"
   ]
  },
  {
   "cell_type": "code",
   "execution_count": 51,
   "id": "177e3acd",
   "metadata": {},
   "outputs": [
    {
     "data": {
      "text/plain": [
       "122110"
      ]
     },
     "execution_count": 51,
     "metadata": {},
     "output_type": "execute_result"
    }
   ],
   "source": [
    "#Making sure that the value is numerical \n",
    "df[\"Unnamed: 0\"].sum()"
   ]
  },
  {
   "cell_type": "code",
   "execution_count": 52,
   "id": "8abd10d3",
   "metadata": {},
   "outputs": [],
   "source": [
    "df.to_csv(\"User (1)(2).csv\")"
   ]
  },
  {
   "cell_type": "code",
   "execution_count": 55,
   "id": "6a2ebc8c",
   "metadata": {},
   "outputs": [],
   "source": [
    "df.to_csv(\"User (1)(2).csv\", index=False)"
   ]
  },
  {
   "cell_type": "code",
   "execution_count": null,
   "id": "97a8d9a3",
   "metadata": {},
   "outputs": [],
   "source": []
  }
 ],
 "metadata": {
  "kernelspec": {
   "display_name": "Python 3 (ipykernel)",
   "language": "python",
   "name": "python3"
  },
  "language_info": {
   "codemirror_mode": {
    "name": "ipython",
    "version": 3
   },
   "file_extension": ".py",
   "mimetype": "text/x-python",
   "name": "python",
   "nbconvert_exporter": "python",
   "pygments_lexer": "ipython3",
   "version": "3.9.7"
  }
 },
 "nbformat": 4,
 "nbformat_minor": 5
}
