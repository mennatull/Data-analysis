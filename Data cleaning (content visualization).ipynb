{
 "cells": [
  {
   "cell_type": "code",
   "execution_count": 83,
   "id": "90e3dbfd",
   "metadata": {},
   "outputs": [],
   "source": [
    "import io\n",
    "import os\n",
    "import pandas as pd\n",
    "import matplotlib.pyplot as plt"
   ]
  },
  {
   "cell_type": "code",
   "execution_count": 84,
   "id": "427689b9",
   "metadata": {},
   "outputs": [],
   "source": [
    "os.chdir(\"/Users/mennatullahalsoudi/Downloads\")"
   ]
  },
  {
   "cell_type": "code",
   "execution_count": 43,
   "id": "d3a94f13",
   "metadata": {},
   "outputs": [
    {
     "data": {
      "text/plain": [
       "<function posix.getcwd()>"
      ]
     },
     "execution_count": 43,
     "metadata": {},
     "output_type": "execute_result"
    }
   ],
   "source": [
    "os.getcwd"
   ]
  },
  {
   "cell_type": "code",
   "execution_count": 44,
   "id": "68b9d714",
   "metadata": {},
   "outputs": [],
   "source": [
    "df=pd.read_csv(\"Content clean clean(1)-1.csv\", delimiter=',')"
   ]
  },
  {
   "cell_type": "code",
   "execution_count": 45,
   "id": "ac9c7c1c",
   "metadata": {},
   "outputs": [
    {
     "data": {
      "text/html": [
       "<div>\n",
       "<style scoped>\n",
       "    .dataframe tbody tr th:only-of-type {\n",
       "        vertical-align: middle;\n",
       "    }\n",
       "\n",
       "    .dataframe tbody tr th {\n",
       "        vertical-align: top;\n",
       "    }\n",
       "\n",
       "    .dataframe thead th {\n",
       "        text-align: right;\n",
       "    }\n",
       "</style>\n",
       "<table border=\"1\" class=\"dataframe\">\n",
       "  <thead>\n",
       "    <tr style=\"text-align: right;\">\n",
       "      <th></th>\n",
       "      <th>Unnamed: 0</th>\n",
       "      <th>Unnamed: 0.1</th>\n",
       "      <th>Unnamed: 0.1.1</th>\n",
       "      <th>Content ID</th>\n",
       "      <th>User ID</th>\n",
       "      <th>Type</th>\n",
       "      <th>Category</th>\n",
       "    </tr>\n",
       "  </thead>\n",
       "  <tbody>\n",
       "    <tr>\n",
       "      <th>0</th>\n",
       "      <td>0</td>\n",
       "      <td>0</td>\n",
       "      <td>0</td>\n",
       "      <td>97522e57-d9ab-4bd6-97bf-c24d952602d2</td>\n",
       "      <td>8d3cd87d-8a31-4935-9a4f-b319bfe05f31</td>\n",
       "      <td>photo</td>\n",
       "      <td>Studying</td>\n",
       "    </tr>\n",
       "    <tr>\n",
       "      <th>1</th>\n",
       "      <td>1</td>\n",
       "      <td>1</td>\n",
       "      <td>1</td>\n",
       "      <td>9f737e0a-3cdd-4d29-9d24-753f4e3be810</td>\n",
       "      <td>beb1f34e-7870-46d6-9fc7-2e12eb83ce43</td>\n",
       "      <td>photo</td>\n",
       "      <td>healthy eating</td>\n",
       "    </tr>\n",
       "    <tr>\n",
       "      <th>2</th>\n",
       "      <td>2</td>\n",
       "      <td>2</td>\n",
       "      <td>2</td>\n",
       "      <td>230c4e4d-70c3-461d-b42c-ec09396efb3f</td>\n",
       "      <td>a5c65404-5894-4b87-82f2-d787cbee86b4</td>\n",
       "      <td>photo</td>\n",
       "      <td>healthy eating</td>\n",
       "    </tr>\n",
       "    <tr>\n",
       "      <th>3</th>\n",
       "      <td>3</td>\n",
       "      <td>3</td>\n",
       "      <td>3</td>\n",
       "      <td>356fff80-da4d-4785-9f43-bc1261031dc6</td>\n",
       "      <td>9fb4ce88-fac1-406c-8544-1a899cee7aaf</td>\n",
       "      <td>photo</td>\n",
       "      <td>technology</td>\n",
       "    </tr>\n",
       "    <tr>\n",
       "      <th>4</th>\n",
       "      <td>4</td>\n",
       "      <td>4</td>\n",
       "      <td>4</td>\n",
       "      <td>01ab84dd-6364-4236-abbb-3f237db77180</td>\n",
       "      <td>e206e31b-5f85-4964-b6ea-d7ee5324def1</td>\n",
       "      <td>video</td>\n",
       "      <td>food</td>\n",
       "    </tr>\n",
       "    <tr>\n",
       "      <th>...</th>\n",
       "      <td>...</td>\n",
       "      <td>...</td>\n",
       "      <td>...</td>\n",
       "      <td>...</td>\n",
       "      <td>...</td>\n",
       "      <td>...</td>\n",
       "      <td>...</td>\n",
       "    </tr>\n",
       "    <tr>\n",
       "      <th>994</th>\n",
       "      <td>995</td>\n",
       "      <td>995</td>\n",
       "      <td>995</td>\n",
       "      <td>b4cef9ef-627b-41d7-a051-5961b0204ebb</td>\n",
       "      <td>5b62e10e-3c19-4d28-a57c-e9bdc3d6758d</td>\n",
       "      <td>video</td>\n",
       "      <td>public speaking</td>\n",
       "    </tr>\n",
       "    <tr>\n",
       "      <th>995</th>\n",
       "      <td>996</td>\n",
       "      <td>996</td>\n",
       "      <td>996</td>\n",
       "      <td>7a79f4e4-3b7d-44dc-bdef-bc990740252c</td>\n",
       "      <td>4fe420fa-a193-4408-bd5d-62a020233609</td>\n",
       "      <td>GIF</td>\n",
       "      <td>technology</td>\n",
       "    </tr>\n",
       "    <tr>\n",
       "      <th>996</th>\n",
       "      <td>997</td>\n",
       "      <td>997</td>\n",
       "      <td>997</td>\n",
       "      <td>435007a5-6261-4d8b-b0a4-55fdc189754b</td>\n",
       "      <td>35d6a1f3-e358-4d4b-8074-05f3b7f35c2a</td>\n",
       "      <td>audio</td>\n",
       "      <td>veganism</td>\n",
       "    </tr>\n",
       "    <tr>\n",
       "      <th>997</th>\n",
       "      <td>998</td>\n",
       "      <td>998</td>\n",
       "      <td>998</td>\n",
       "      <td>4e4c9690-c013-4ee7-9e66-943d8cbd27b7</td>\n",
       "      <td>b9bcd994-f000-4f6b-87fc-caae08acfaa1</td>\n",
       "      <td>GIF</td>\n",
       "      <td>culture</td>\n",
       "    </tr>\n",
       "    <tr>\n",
       "      <th>998</th>\n",
       "      <td>999</td>\n",
       "      <td>999</td>\n",
       "      <td>999</td>\n",
       "      <td>75d6b589-7fae-4a6d-b0d0-752845150e56</td>\n",
       "      <td>b8c653b5-0118-4d7e-9bde-07c2de90f0ff</td>\n",
       "      <td>audio</td>\n",
       "      <td>technology</td>\n",
       "    </tr>\n",
       "  </tbody>\n",
       "</table>\n",
       "<p>999 rows × 7 columns</p>\n",
       "</div>"
      ],
      "text/plain": [
       "     Unnamed: 0  Unnamed: 0.1  Unnamed: 0.1.1  \\\n",
       "0             0             0               0   \n",
       "1             1             1               1   \n",
       "2             2             2               2   \n",
       "3             3             3               3   \n",
       "4             4             4               4   \n",
       "..          ...           ...             ...   \n",
       "994         995           995             995   \n",
       "995         996           996             996   \n",
       "996         997           997             997   \n",
       "997         998           998             998   \n",
       "998         999           999             999   \n",
       "\n",
       "                               Content ID  \\\n",
       "0    97522e57-d9ab-4bd6-97bf-c24d952602d2   \n",
       "1    9f737e0a-3cdd-4d29-9d24-753f4e3be810   \n",
       "2    230c4e4d-70c3-461d-b42c-ec09396efb3f   \n",
       "3    356fff80-da4d-4785-9f43-bc1261031dc6   \n",
       "4    01ab84dd-6364-4236-abbb-3f237db77180   \n",
       "..                                    ...   \n",
       "994  b4cef9ef-627b-41d7-a051-5961b0204ebb   \n",
       "995  7a79f4e4-3b7d-44dc-bdef-bc990740252c   \n",
       "996  435007a5-6261-4d8b-b0a4-55fdc189754b   \n",
       "997  4e4c9690-c013-4ee7-9e66-943d8cbd27b7   \n",
       "998  75d6b589-7fae-4a6d-b0d0-752845150e56   \n",
       "\n",
       "                                  User ID   Type         Category  \n",
       "0    8d3cd87d-8a31-4935-9a4f-b319bfe05f31  photo         Studying  \n",
       "1    beb1f34e-7870-46d6-9fc7-2e12eb83ce43  photo   healthy eating  \n",
       "2    a5c65404-5894-4b87-82f2-d787cbee86b4  photo   healthy eating  \n",
       "3    9fb4ce88-fac1-406c-8544-1a899cee7aaf  photo       technology  \n",
       "4    e206e31b-5f85-4964-b6ea-d7ee5324def1  video             food  \n",
       "..                                    ...    ...              ...  \n",
       "994  5b62e10e-3c19-4d28-a57c-e9bdc3d6758d  video  public speaking  \n",
       "995  4fe420fa-a193-4408-bd5d-62a020233609    GIF       technology  \n",
       "996  35d6a1f3-e358-4d4b-8074-05f3b7f35c2a  audio         veganism  \n",
       "997  b9bcd994-f000-4f6b-87fc-caae08acfaa1    GIF          culture  \n",
       "998  b8c653b5-0118-4d7e-9bde-07c2de90f0ff  audio       technology  \n",
       "\n",
       "[999 rows x 7 columns]"
      ]
     },
     "execution_count": 45,
     "metadata": {},
     "output_type": "execute_result"
    }
   ],
   "source": [
    "df"
   ]
  },
  {
   "cell_type": "code",
   "execution_count": 64,
   "id": "d7780afd",
   "metadata": {},
   "outputs": [],
   "source": [
    "old=df[\"Category\"][100]\n",
    "new=df[\"Category\"][100].strip('\"')\n",
    "df.replace(old,new,inplace=True)"
   ]
  },
  {
   "cell_type": "code",
   "execution_count": 65,
   "id": "411075ed",
   "metadata": {},
   "outputs": [],
   "source": [
    "old=df[\"Category\"][150]\n",
    "new=df[\"Category\"][150].strip('\"')\n",
    "df.replace(old,new,inplace=True)"
   ]
  },
  {
   "cell_type": "code",
   "execution_count": 66,
   "id": "0d57cbd4",
   "metadata": {},
   "outputs": [],
   "source": [
    "old=df[\"Category\"][200]\n",
    "new=df[\"Category\"][200].strip('\"')\n",
    "df.replace(old,new,inplace=True)"
   ]
  },
  {
   "cell_type": "code",
   "execution_count": 67,
   "id": "b5d59094",
   "metadata": {},
   "outputs": [],
   "source": [
    "old=df[\"Category\"][250]\n",
    "new=df[\"Category\"][250].strip('\"')\n",
    "df.replace(old,new,inplace=True)"
   ]
  },
  {
   "cell_type": "code",
   "execution_count": 68,
   "id": "151fc7ee",
   "metadata": {},
   "outputs": [],
   "source": [
    "old=df[\"Category\"][300]\n",
    "new=df[\"Category\"][300].strip('\"')\n",
    "df.replace(old,new,inplace=True)"
   ]
  },
  {
   "cell_type": "code",
   "execution_count": 69,
   "id": "011b7607",
   "metadata": {},
   "outputs": [],
   "source": [
    "old=df[\"Category\"][450]\n",
    "new=df[\"Category\"][450].strip('\"')\n",
    "df.replace(old,new,inplace=True)"
   ]
  },
  {
   "cell_type": "code",
   "execution_count": 70,
   "id": "39cea7e7",
   "metadata": {},
   "outputs": [],
   "source": [
    "old=df[\"Category\"][500]\n",
    "new=df[\"Category\"][500].strip('\"')\n",
    "df.replace(old,new,inplace=True)"
   ]
  },
  {
   "cell_type": "code",
   "execution_count": 71,
   "id": "4417bde2",
   "metadata": {},
   "outputs": [],
   "source": [
    "old=df[\"Category\"][550]\n",
    "new=df[\"Category\"][550].strip('\"')\n",
    "df.replace(old,new,inplace=True)"
   ]
  },
  {
   "cell_type": "code",
   "execution_count": 72,
   "id": "a170026c",
   "metadata": {},
   "outputs": [],
   "source": [
    "old=df[\"Category\"][600]\n",
    "new=df[\"Category\"][600].strip('\"')\n",
    "df.replace(old,new,inplace=True)"
   ]
  },
  {
   "cell_type": "code",
   "execution_count": 73,
   "id": "3a285227",
   "metadata": {},
   "outputs": [],
   "source": [
    "old=df[\"Category\"][650]\n",
    "new=df[\"Category\"][650].strip('\"')\n",
    "df.replace(old,new,inplace=True)"
   ]
  },
  {
   "cell_type": "code",
   "execution_count": 74,
   "id": "b49fb1b1",
   "metadata": {},
   "outputs": [],
   "source": [
    "old=df[\"Category\"][750]\n",
    "new=df[\"Category\"][750].strip('\"')\n",
    "df.replace(old,new,inplace=True)"
   ]
  },
  {
   "cell_type": "code",
   "execution_count": 75,
   "id": "7d673fed",
   "metadata": {},
   "outputs": [],
   "source": [
    "old=df[\"Category\"][800]\n",
    "new=df[\"Category\"][800].strip('\"')\n",
    "df.replace(old,new,inplace=True)"
   ]
  },
  {
   "cell_type": "code",
   "execution_count": 76,
   "id": "51efe583",
   "metadata": {},
   "outputs": [],
   "source": [
    "old=df[\"Category\"][850]\n",
    "new=df[\"Category\"][850].strip('\"')\n",
    "df.replace(old,new,inplace=True)"
   ]
  },
  {
   "cell_type": "code",
   "execution_count": 77,
   "id": "e48715bf",
   "metadata": {},
   "outputs": [],
   "source": [
    "old=df[\"Category\"][900]\n",
    "new=df[\"Category\"][900].strip('\"')\n",
    "df.replace(old,new,inplace=True)"
   ]
  },
  {
   "cell_type": "code",
   "execution_count": 78,
   "id": "fc879656",
   "metadata": {},
   "outputs": [
    {
     "data": {
      "text/plain": [
       "'public speaking'"
      ]
     },
     "execution_count": 78,
     "metadata": {},
     "output_type": "execute_result"
    }
   ],
   "source": [
    "df[\"Category\"][800]"
   ]
  },
  {
   "cell_type": "code",
   "execution_count": 79,
   "id": "f92ec3cd",
   "metadata": {},
   "outputs": [],
   "source": [
    "df.to_csv(\"Content clean clean(22)-1.csv\")"
   ]
  },
  {
   "cell_type": "code",
   "execution_count": 81,
   "id": "fff5c6ae",
   "metadata": {},
   "outputs": [],
   "source": [
    "df=pd.read_csv(\"Content clean clean(22)-1.csv\",index_col=0)"
   ]
  },
  {
   "cell_type": "code",
   "execution_count": 96,
   "id": "1daf6b11",
   "metadata": {},
   "outputs": [
    {
     "name": "stderr",
     "output_type": "stream",
     "text": [
      "/var/folders/w7/vb4gczb55g5d0m93s92rl2lc0000gn/T/ipykernel_57991/2621740046.py:4: UserWarning: FixedFormatter should only be used together with FixedLocator\n",
      "  ax.set_xticklabels(df[\"Category\"], rotation=90)\n"
     ]
    },
    {
     "data": {
      "image/png": "[encoded data removed]",
      "text/plain": [
       "<Figure size 432x288 with 1 Axes>"
      ]
     },
     "metadata": {
      "needs_background": "light"
     },
     "output_type": "display_data"
    }
   ],
   "source": [
    "#Data visualizations to show the top categories \n",
    "fig,ax=plt.subplots()\n",
    "ax.bar(df[\"Category\"],df[\"Unnamed: 0.1.1\"])\n",
    "ax.set_xticklabels(df[\"Category\"], rotation=90)\n",
    "ax.set_ylabel(\"Number of content\")\n",
    "plt.show()"
   ]
  },
  {
   "cell_type": "code",
   "execution_count": 92,
   "id": "fa623417",
   "metadata": {},
   "outputs": [
    {
     "data": {
      "text/plain": [
       "<BarContainer object of 999 artists>"
      ]
     },
     "execution_count": 92,
     "metadata": {},
     "output_type": "execute_result"
    }
   ],
   "source": []
  },
  {
   "cell_type": "code",
   "execution_count": 93,
   "id": "815107c2",
   "metadata": {},
   "outputs": [],
   "source": []
  },
  {
   "cell_type": "code",
   "execution_count": null,
   "id": "6de5a8f9",
   "metadata": {},
   "outputs": [],
   "source": []
  }
 ],
 "metadata": {
  "kernelspec": {
   "display_name": "Python 3 (ipykernel)",
   "language": "python",
   "name": "python3"
  },
  "language_info": {
   "codemirror_mode": {
    "name": "ipython",
    "version": 3
   },
   "file_extension": ".py",
   "mimetype": "text/x-python",
   "name": "python",
   "nbconvert_exporter": "python",
   "pygments_lexer": "ipython3",
   "version": "3.9.7"
  }
 },
 "nbformat": 4,
 "nbformat_minor": 5
}
